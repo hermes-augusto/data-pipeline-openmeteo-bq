{
 "cells": [
  {
   "cell_type": "code",
   "execution_count": 1,
   "metadata": {},
   "outputs": [],
   "source": [
    "import sys\n",
    "import os\n",
    "# Caminho absoluto para a pasta src\n",
    "src_path = os.path.abspath(os.path.join(os.getcwd(), \"../src\"))\n",
    "if src_path not in sys.path:\n",
    "    sys.path.append(src_path)\n"
   ]
  },
  {
   "cell_type": "code",
   "execution_count": 3,
   "metadata": {},
   "outputs": [
    {
     "name": "stdout",
     "output_type": "stream",
     "text": [
      "Tabela criada com sucesso: fluent-century-298900:mba_eng_dados_mack.test_table_openmeteo_historico\n"
     ]
    },
    {
     "data": {
      "text/plain": [
       "'test_table_openmeteo_historico'"
      ]
     },
     "execution_count": 3,
     "metadata": {},
     "output_type": "execute_result"
    }
   ],
   "source": [
    "from services.bq_service import BigQueryService\n",
    "bq = BigQueryService()\n",
    "bq.criar_tabela(table_id=\"test_table_openmeteo_historico\")"
   ]
  },
  {
   "cell_type": "code",
   "execution_count": null,
   "metadata": {},
   "outputs": [],
   "source": [
    "from services.api_service import extrair_dados\n",
    "\n",
    "df = extrair_dados(start_date=\"2024-01-01\", end_date=\"2024-01-02\")\n",
    "df.head()\n"
   ]
  },
  {
   "cell_type": "code",
   "execution_count": 2,
   "metadata": {},
   "outputs": [
    {
     "name": "stdout",
     "output_type": "stream",
     "text": [
      "Tabela criada com sucesso: fluent-century-298900:mba_eng_dados_mack.clima_historico_subprefeituras_sp\n"
     ]
    },
    {
     "data": {
      "text/plain": [
       "'clima_historico_subprefeituras_sp'"
      ]
     },
     "execution_count": 2,
     "metadata": {},
     "output_type": "execute_result"
    }
   ],
   "source": [
    "from services.bq_service import BigQueryService\n",
    "bq = BigQueryService()\n",
    "bq.criar_tabela(table_id=\"clima_historico_subprefeituras_sp\")"
   ]
  }
 ],
 "metadata": {
  "kernelspec": {
   "display_name": "data-pipeline-openmeteo-bq-55YjzHCG-py3.9",
   "language": "python",
   "name": "python3"
  },
  "language_info": {
   "codemirror_mode": {
    "name": "ipython",
    "version": 3
   },
   "file_extension": ".py",
   "mimetype": "text/x-python",
   "name": "python",
   "nbconvert_exporter": "python",
   "pygments_lexer": "ipython3",
   "version": "3.9.0"
  }
 },
 "nbformat": 4,
 "nbformat_minor": 2
}
