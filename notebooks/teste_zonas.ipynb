{
 "cells": [
  {
   "cell_type": "code",
   "execution_count": null,
   "metadata": {},
   "outputs": [],
   "source": [
    "import sys\n",
    "import os\n",
    "import pandas as pd\n",
    "\n",
    "# Caminho absoluto para a pasta src\n",
    "src_path = os.path.abspath(os.path.join(os.getcwd(), \"../src\"))\n",
    "if src_path not in sys.path:\n",
    "    sys.path.append(src_path)"
   ]
  },
  {
   "cell_type": "code",
   "execution_count": 2,
   "metadata": {},
   "outputs": [
    {
     "data": {
      "text/html": [
       "<div>\n",
       "<style scoped>\n",
       "    .dataframe tbody tr th:only-of-type {\n",
       "        vertical-align: middle;\n",
       "    }\n",
       "\n",
       "    .dataframe tbody tr th {\n",
       "        vertical-align: top;\n",
       "    }\n",
       "\n",
       "    .dataframe thead th {\n",
       "        text-align: right;\n",
       "    }\n",
       "</style>\n",
       "<table border=\"1\" class=\"dataframe\">\n",
       "  <thead>\n",
       "    <tr style=\"text-align: right;\">\n",
       "      <th></th>\n",
       "      <th>nome</th>\n",
       "      <th>latitude</th>\n",
       "      <th>longitude</th>\n",
       "      <th>zona</th>\n",
       "    </tr>\n",
       "  </thead>\n",
       "  <tbody>\n",
       "    <tr>\n",
       "      <th>0</th>\n",
       "      <td>Sé</td>\n",
       "      <td>-23.5505</td>\n",
       "      <td>-46.6333</td>\n",
       "      <td>Centro</td>\n",
       "    </tr>\n",
       "    <tr>\n",
       "      <th>1</th>\n",
       "      <td>Pinheiros</td>\n",
       "      <td>-23.5675</td>\n",
       "      <td>-46.6931</td>\n",
       "      <td>Oeste</td>\n",
       "    </tr>\n",
       "    <tr>\n",
       "      <th>2</th>\n",
       "      <td>Lapa</td>\n",
       "      <td>-23.5273</td>\n",
       "      <td>-46.7036</td>\n",
       "      <td>Oeste</td>\n",
       "    </tr>\n",
       "    <tr>\n",
       "      <th>3</th>\n",
       "      <td>Vila Mariana</td>\n",
       "      <td>-23.5898</td>\n",
       "      <td>-46.6346</td>\n",
       "      <td>Centro-Sul</td>\n",
       "    </tr>\n",
       "    <tr>\n",
       "      <th>4</th>\n",
       "      <td>Butantã</td>\n",
       "      <td>-23.5728</td>\n",
       "      <td>-46.7220</td>\n",
       "      <td>Oeste</td>\n",
       "    </tr>\n",
       "  </tbody>\n",
       "</table>\n",
       "</div>"
      ],
      "text/plain": [
       "           nome  latitude  longitude        zona\n",
       "0            Sé  -23.5505   -46.6333      Centro\n",
       "1     Pinheiros  -23.5675   -46.6931       Oeste\n",
       "2          Lapa  -23.5273   -46.7036       Oeste\n",
       "3  Vila Mariana  -23.5898   -46.6346  Centro-Sul\n",
       "4       Butantã  -23.5728   -46.7220       Oeste"
      ]
     },
     "execution_count": 2,
     "metadata": {},
     "output_type": "execute_result"
    }
   ],
   "source": [
    "df_zonas_sp = pd.read_csv('data/subprefeituras_sp_lat_lon_zona.csv')\n",
    "df_zonas_sp.head()"
   ]
  },
  {
   "cell_type": "code",
   "execution_count": 10,
   "metadata": {},
   "outputs": [
    {
     "name": "stdout",
     "output_type": "stream",
     "text": [
      "<class 'pandas.core.frame.DataFrame'>\n",
      "RangeIndex: 33 entries, 0 to 32\n",
      "Data columns (total 4 columns):\n",
      " #   Column     Non-Null Count  Dtype  \n",
      "---  ------     --------------  -----  \n",
      " 0   nome       33 non-null     object \n",
      " 1   latitude   33 non-null     float64\n",
      " 2   longitude  33 non-null     float64\n",
      " 3   zona       33 non-null     object \n",
      "dtypes: float64(2), object(2)\n",
      "memory usage: 1.2+ KB\n"
     ]
    }
   ],
   "source": [
    "df_zonas_sp.info()"
   ]
  },
  {
   "cell_type": "code",
   "execution_count": 11,
   "metadata": {},
   "outputs": [
    {
     "name": "stdout",
     "output_type": "stream",
     "text": [
      "Extraindo dados para: Sé\n",
      "Extraindo dados para: Pinheiros\n",
      "Extraindo dados para: Lapa\n",
      "Extraindo dados para: Vila Mariana\n",
      "Extraindo dados para: Butantã\n",
      "Extraindo dados para: Casa Verde/Cachoeirinha\n",
      "Extraindo dados para: Santana/Tucuruvi\n",
      "Extraindo dados para: Jaçanã/Tremembé\n",
      "Extraindo dados para: Freguesia do Ó/Brasilândia\n",
      "Extraindo dados para: Perus\n",
      "Extraindo dados para: Pirituba/Jaraguá\n",
      "Extraindo dados para: Campo Limpo\n",
      "Extraindo dados para: Capela do Socorro\n",
      "Extraindo dados para: Cidade Ademar\n",
      "Extraindo dados para: Cidade Tiradentes\n",
      "Extraindo dados para: Ermelino Matarazzo\n",
      "Extraindo dados para: Guaianases\n",
      "Extraindo dados para: Itaim Paulista\n",
      "Extraindo dados para: Itaquera\n",
      "Extraindo dados para: Jabaquara\n",
      "Extraindo dados para: Mooca\n",
      "Extraindo dados para: Parelheiros\n",
      "Extraindo dados para: Penha\n",
      "Extraindo dados para: Santana\n",
      "Extraindo dados para: Santo Amaro\n",
      "Extraindo dados para: São Mateus\n",
      "Extraindo dados para: São Miguel\n",
      "Extraindo dados para: Sapopemba\n",
      "Extraindo dados para: Tatuapé\n",
      "Extraindo dados para: Vila Maria/Vila Guilherme\n",
      "Extraindo dados para: Vila Prudente\n",
      "Extraindo dados para: Aricanduva/Formosa/Carrão\n",
      "Extraindo dados para: M’Boi Mirim\n"
     ]
    }
   ],
   "source": [
    "from services.api_service import extrair_dados\n",
    "import time \n",
    "start_date = \"2000-01-01\"\n",
    "end_date = \"2024-12-01\"\n",
    "dfs = []\n",
    "for _, row in df_zonas_sp.iterrows():\n",
    "    print(f\"Extraindo dados para: {row['nome']}\")\n",
    "\n",
    "    try:\n",
    "        df = extrair_dados(\n",
    "            latitude=row[\"latitude\"],\n",
    "            longitude=row[\"longitude\"],\n",
    "            start_date=start_date,\n",
    "            end_date=end_date\n",
    "        )\n",
    "        df[\"subprefeitura\"] = row[\"nome\"]\n",
    "        df[\"zona\"] = row[\"zona\"]\n",
    "        dfs.append(df)\n",
    "        time.sleep(60)\n",
    "    except Exception as e:\n",
    "        print(f\"Erro ao extrair dados para {row['nome']}: {e}\")\n",
    "df_final = pd.concat(dfs, ignore_index=True)"
   ]
  },
  {
   "cell_type": "code",
   "execution_count": 12,
   "metadata": {},
   "outputs": [
    {
     "name": "stdout",
     "output_type": "stream",
     "text": [
      "<class 'pandas.core.frame.DataFrame'>\n",
      "RangeIndex: 7208784 entries, 0 to 7208783\n",
      "Data columns (total 7 columns):\n",
      " #   Column            Dtype              \n",
      "---  ------            -----              \n",
      " 0   datahora          datetime64[ns, UTC]\n",
      " 1   temperatura       float64            \n",
      " 2   sensacao_termica  float64            \n",
      " 3   latitude          float64            \n",
      " 4   longitude         float64            \n",
      " 5   subprefeitura     object             \n",
      " 6   zona              object             \n",
      "dtypes: datetime64[ns, UTC](1), float64(4), object(2)\n",
      "memory usage: 385.0+ MB\n"
     ]
    }
   ],
   "source": [
    "df_final.info()"
   ]
  },
  {
   "cell_type": "code",
   "execution_count": null,
   "metadata": {},
   "outputs": [],
   "source": [
    "df_final.to_csv('data/all_data.csv', index=False)"
   ]
  },
  {
   "cell_type": "code",
   "execution_count": 15,
   "metadata": {},
   "outputs": [
    {
     "name": "stdout",
     "output_type": "stream",
     "text": [
      "Dados carregados na tabela fluent-century-298900.mba_eng_dados_mack.clima_historico_subprefeituras_sp\n"
     ]
    }
   ],
   "source": [
    "from services.bq_service import BigQueryService\n",
    "bq = BigQueryService()\n",
    "bq.carregar_dataframe(df_final, \"clima_historico_subprefeituras_sp\",write_disposition=\"WRITE_TRUNCATE\")"
   ]
  }
 ],
 "metadata": {
  "kernelspec": {
   "display_name": "data-pipeline-openmeteo-bq-55YjzHCG-py3.9",
   "language": "python",
   "name": "python3"
  },
  "language_info": {
   "codemirror_mode": {
    "name": "ipython",
    "version": 3
   },
   "file_extension": ".py",
   "mimetype": "text/x-python",
   "name": "python",
   "nbconvert_exporter": "python",
   "pygments_lexer": "ipython3",
   "version": "3.9.0"
  }
 },
 "nbformat": 4,
 "nbformat_minor": 2
}
